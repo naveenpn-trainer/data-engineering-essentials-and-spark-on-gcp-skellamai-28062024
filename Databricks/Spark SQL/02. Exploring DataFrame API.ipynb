{
 "cells": [
  {
   "cell_type": "markdown",
   "metadata": {
    "application/vnd.databricks.v1+cell": {
     "cellMetadata": {},
     "inputWidgets": {},
     "nuid": "6bfd2673-7f6c-4a8f-86c1-0a1938f22877",
     "showTitle": false,
     "title": ""
    }
   },
   "source": [
    "# Prerequisites\n",
    "\n",
    "* Load users_001.csv into DataFrame\n",
    "\n"
   ]
  },
  {
   "cell_type": "code",
   "execution_count": 0,
   "metadata": {
    "application/vnd.databricks.v1+cell": {
     "cellMetadata": {
      "byteLimit": 2048000,
      "rowLimit": 10000
     },
     "inputWidgets": {},
     "nuid": "01ba25f5-dd21-4abb-9a3c-9b9658fca9b6",
     "showTitle": false,
     "title": ""
    }
   },
   "outputs": [
    {
     "output_type": "display_data",
     "data": {
      "text/html": [
       "<style scoped>\n",
       "  .table-result-container {\n",
       "    max-height: 300px;\n",
       "    overflow: auto;\n",
       "  }\n",
       "  table, th, td {\n",
       "    border: 1px solid black;\n",
       "    border-collapse: collapse;\n",
       "  }\n",
       "  th, td {\n",
       "    padding: 5px;\n",
       "  }\n",
       "  th {\n",
       "    text-align: left;\n",
       "  }\n",
       "</style><div class='table-result-container'><table class='table-result'><thead style='background-color: white'><tr><th>id</th><th>name</th><th>dob</th><th>email</th><th>gender</th><th>country</th><th>region</th><th>city</th><th>asset</th><th>marital_status</th></tr></thead><tbody><tr><td>1</td><td>Heather Gibbs</td><td>2024-10-31</td><td>heathergibbs6243@gmail.com</td><td>Female</td><td>United States</td><td>Virginia</td><td>Virginia Beach</td><td>734388</td><td>Married</td></tr><tr><td>2</td><td>Herrod Petersen</td><td>2024-02-19</td><td>herrodpetersen@yahoomail.com</td><td>Male</td><td>United States</td><td>Arizona</td><td>Phoenix</td><td>113506</td><td>Single</td></tr><tr><td>3</td><td>Ocean Workman</td><td>2024-10-10</td><td>oceanworkman2328@ymail.com</td><td>Male</td><td>United States</td><td>Tennessee</td><td>Clarksville</td><td>139985</td><td> Married</td></tr><tr><td>4</td><td>Xaviera Maxwell</td><td>2025-03-09</td><td>xavieramaxwell@gmail.com</td><td>Transgender</td><td>United States</td><td>Ohio</td><td>Cleveland</td><td>511409</td><td>married</td></tr><tr><td>5</td><td>Bo Underwood</td><td>2024-06-30</td><td>bounderwood@ymail.com</td><td>Male</td><td>India</td><td>Tamil Nadu</td><td>Madurai</td><td>366783</td><td>Married</td></tr><tr><td>6</td><td>Graiden Mcleod</td><td>2023-11-09</td><td>graidenmcleod1069@ymail.com</td><td>Male</td><td>United States</td><td>Oregon</td><td>Salem</td><td>638977</td><td>Divorced</td></tr><tr><td>7</td><td>Chantale Nixon</td><td>2023-09-06</td><td>chantalenixon404@ymail.com</td><td>Female</td><td>India</td><td>Andaman and Nicobar Islands</td><td>Port Blair</td><td>717994</td><td>Married</td></tr><tr><td>8</td><td>Ashton Willis</td><td>2025-02-22</td><td>ashtonwillis@gmail.com</td><td>Male</td><td>India</td><td>Dadra and Nagar Haveli</td><td>Silvassa</td><td>483841</td><td>Married</td></tr><tr><td>9</td><td>Mercedes Lawrence</td><td>2024-08-15</td><td>mercedeslawrence4115@ymail.com</td><td>Male</td><td>India</td><td>Punjab</td><td>Gujranwala</td><td>598378</td><td>Single</td></tr><tr><td>10</td><td>Norman Patton</td><td>2024-02-25</td><td>normanpatton6042@yahoomail.com</td><td>Transgender</td><td>India</td><td>Chhattisgarh</td><td>Durg</td><td>412938</td><td>Married</td></tr></tbody></table></div>"
      ]
     },
     "metadata": {
      "application/vnd.databricks.v1+output": {
       "addedWidgets": {},
       "aggData": [],
       "aggError": "",
       "aggOverflow": false,
       "aggSchema": [],
       "aggSeriesLimitReached": false,
       "aggType": "",
       "arguments": {},
       "columnCustomDisplayInfos": {},
       "data": [
        [
         1,
         "Heather Gibbs",
         "2024-10-31",
         "heathergibbs6243@gmail.com",
         "Female",
         "United States",
         "Virginia",
         "Virginia Beach",
         734388,
         "Married"
        ],
        [
         2,
         "Herrod Petersen",
         "2024-02-19",
         "herrodpetersen@yahoomail.com",
         "Male",
         "United States",
         "Arizona",
         "Phoenix",
         113506,
         "Single"
        ],
        [
         3,
         "Ocean Workman",
         "2024-10-10",
         "oceanworkman2328@ymail.com",
         "Male",
         "United States",
         "Tennessee",
         "Clarksville",
         139985,
         " Married"
        ],
        [
         4,
         "Xaviera Maxwell",
         "2025-03-09",
         "xavieramaxwell@gmail.com",
         "Transgender",
         "United States",
         "Ohio",
         "Cleveland",
         511409,
         "married"
        ],
        [
         5,
         "Bo Underwood",
         "2024-06-30",
         "bounderwood@ymail.com",
         "Male",
         "India",
         "Tamil Nadu",
         "Madurai",
         366783,
         "Married"
        ],
        [
         6,
         "Graiden Mcleod",
         "2023-11-09",
         "graidenmcleod1069@ymail.com",
         "Male",
         "United States",
         "Oregon",
         "Salem",
         638977,
         "Divorced"
        ],
        [
         7,
         "Chantale Nixon",
         "2023-09-06",
         "chantalenixon404@ymail.com",
         "Female",
         "India",
         "Andaman and Nicobar Islands",
         "Port Blair",
         717994,
         "Married"
        ],
        [
         8,
         "Ashton Willis",
         "2025-02-22",
         "ashtonwillis@gmail.com",
         "Male",
         "India",
         "Dadra and Nagar Haveli",
         "Silvassa",
         483841,
         "Married"
        ],
        [
         9,
         "Mercedes Lawrence",
         "2024-08-15",
         "mercedeslawrence4115@ymail.com",
         "Male",
         "India",
         "Punjab",
         "Gujranwala",
         598378,
         "Single"
        ],
        [
         10,
         "Norman Patton",
         "2024-02-25",
         "normanpatton6042@yahoomail.com",
         "Transgender",
         "India",
         "Chhattisgarh",
         "Durg",
         412938,
         "Married"
        ]
       ],
       "datasetInfos": [],
       "dbfsResultPath": null,
       "isJsonSchema": true,
       "metadata": {},
       "overflow": false,
       "plotOptions": {
        "customPlotOptions": {},
        "displayType": "table",
        "pivotAggregation": null,
        "pivotColumns": null,
        "xColumns": null,
        "yColumns": null
       },
       "removedWidgets": [],
       "schema": [
        {
         "metadata": "{}",
         "name": "id",
         "type": "\"integer\""
        },
        {
         "metadata": "{}",
         "name": "name",
         "type": "\"string\""
        },
        {
         "metadata": "{\"__detected_date_formats\":\"yyyy-M-d\"}",
         "name": "dob",
         "type": "\"date\""
        },
        {
         "metadata": "{}",
         "name": "email",
         "type": "\"string\""
        },
        {
         "metadata": "{}",
         "name": "gender",
         "type": "\"string\""
        },
        {
         "metadata": "{}",
         "name": "country",
         "type": "\"string\""
        },
        {
         "metadata": "{}",
         "name": "region",
         "type": "\"string\""
        },
        {
         "metadata": "{}",
         "name": "city",
         "type": "\"string\""
        },
        {
         "metadata": "{}",
         "name": "asset",
         "type": "\"integer\""
        },
        {
         "metadata": "{}",
         "name": "marital_status",
         "type": "\"string\""
        }
       ],
       "type": "table"
      }
     },
     "output_type": "display_data"
    }
   ],
   "source": [
    "users_df = spark.read.csv(\n",
    "    path=\"/FileStore/tables/users_001.csv\", header=True, quote=\"'\",inferSchema=True\n",
    ")\n",
    "users_df.limit(10).display()"
   ]
  },
  {
   "cell_type": "markdown",
   "metadata": {
    "application/vnd.databricks.v1+cell": {
     "cellMetadata": {},
     "inputWidgets": {},
     "nuid": "6d6e0619-48ba-425b-a073-9469a7e0453a",
     "showTitle": false,
     "title": ""
    }
   },
   "source": [
    "# Basic Operations\n",
    "\n",
    "1. Display the total count of records excluding headers\n",
    "2. Print the column names\n",
    "3. Display top n records without truncating the data\n",
    "4. Select 'full_name,email\" columns"
   ]
  },
  {
   "cell_type": "code",
   "execution_count": 0,
   "metadata": {
    "application/vnd.databricks.v1+cell": {
     "cellMetadata": {
      "byteLimit": 2048000,
      "rowLimit": 10000
     },
     "inputWidgets": {},
     "nuid": "a1355fe1-c115-42bd-a530-c41cb215b38e",
     "showTitle": false,
     "title": ""
    }
   },
   "outputs": [
    {
     "output_type": "stream",
     "name": "stdout",
     "output_type": "stream",
     "text": [
      "Out[3]: 500"
     ]
    }
   ],
   "source": [
    "users_df.count()"
   ]
  },
  {
   "cell_type": "code",
   "execution_count": 0,
   "metadata": {
    "application/vnd.databricks.v1+cell": {
     "cellMetadata": {
      "byteLimit": 2048000,
      "rowLimit": 10000
     },
     "inputWidgets": {},
     "nuid": "3a60bbf6-1e58-4ab6-a97c-833f1b6705fd",
     "showTitle": false,
     "title": ""
    }
   },
   "outputs": [
    {
     "output_type": "stream",
     "name": "stdout",
     "output_type": "stream",
     "text": [
      "[1, 2, 3]\n"
     ]
    }
   ],
   "source": [
    "L = [1,2,3]\n",
    "print(L)"
   ]
  },
  {
   "cell_type": "markdown",
   "metadata": {
    "application/vnd.databricks.v1+cell": {
     "cellMetadata": {},
     "inputWidgets": {},
     "nuid": "294826ec-c1e9-4956-99f0-a8d6682fdf3c",
     "showTitle": false,
     "title": ""
    }
   },
   "source": [
    "## Print Column names"
   ]
  },
  {
   "cell_type": "code",
   "execution_count": 0,
   "metadata": {
    "application/vnd.databricks.v1+cell": {
     "cellMetadata": {
      "byteLimit": 2048000,
      "rowLimit": 10000
     },
     "inputWidgets": {},
     "nuid": "c5c2d206-6c56-4f23-b7f4-b0c42d62f7b4",
     "showTitle": false,
     "title": ""
    }
   },
   "outputs": [
    {
     "output_type": "stream",
     "name": "stdout",
     "output_type": "stream",
     "text": [
      "id\nname\ndob\nemail\ngender\ncountry\nregion\ncity\nasset\nmarital_status\n"
     ]
    }
   ],
   "source": [
    "for column in users_df.columns:\n",
    "  print(column)"
   ]
  },
  {
   "cell_type": "markdown",
   "metadata": {
    "application/vnd.databricks.v1+cell": {
     "cellMetadata": {},
     "inputWidgets": {},
     "nuid": "33a75b78-3064-4740-9348-fe8c55e00e5f",
     "showTitle": false,
     "title": ""
    }
   },
   "source": [
    "## Select columns"
   ]
  },
  {
   "cell_type": "code",
   "execution_count": 0,
   "metadata": {
    "application/vnd.databricks.v1+cell": {
     "cellMetadata": {
      "byteLimit": 2048000,
      "rowLimit": 10000
     },
     "inputWidgets": {},
     "nuid": "35a23c91-d774-4f23-95e2-aea5945a44ac",
     "showTitle": false,
     "title": ""
    }
   },
   "outputs": [
    {
     "output_type": "display_data",
     "data": {
      "text/html": [
       "<style scoped>\n",
       "  .table-result-container {\n",
       "    max-height: 300px;\n",
       "    overflow: auto;\n",
       "  }\n",
       "  table, th, td {\n",
       "    border: 1px solid black;\n",
       "    border-collapse: collapse;\n",
       "  }\n",
       "  th, td {\n",
       "    padding: 5px;\n",
       "  }\n",
       "  th {\n",
       "    text-align: left;\n",
       "  }\n",
       "</style><div class='table-result-container'><table class='table-result'><thead style='background-color: white'><tr><th>Full Name</th><th>email</th></tr></thead><tbody><tr><td>Heather Gibbs</td><td>heathergibbs6243@gmail.com</td></tr><tr><td>Herrod Petersen</td><td>herrodpetersen@yahoomail.com</td></tr><tr><td>Ocean Workman</td><td>oceanworkman2328@ymail.com</td></tr></tbody></table></div>"
      ]
     },
     "metadata": {
      "application/vnd.databricks.v1+output": {
       "addedWidgets": {},
       "aggData": [],
       "aggError": "",
       "aggOverflow": false,
       "aggSchema": [],
       "aggSeriesLimitReached": false,
       "aggType": "",
       "arguments": {},
       "columnCustomDisplayInfos": {},
       "data": [
        [
         "Heather Gibbs",
         "heathergibbs6243@gmail.com"
        ],
        [
         "Herrod Petersen",
         "herrodpetersen@yahoomail.com"
        ],
        [
         "Ocean Workman",
         "oceanworkman2328@ymail.com"
        ]
       ],
       "datasetInfos": [],
       "dbfsResultPath": null,
       "isJsonSchema": true,
       "metadata": {},
       "overflow": false,
       "plotOptions": {
        "customPlotOptions": {},
        "displayType": "table",
        "pivotAggregation": null,
        "pivotColumns": null,
        "xColumns": null,
        "yColumns": null
       },
       "removedWidgets": [],
       "schema": [
        {
         "metadata": "{}",
         "name": "Full Name",
         "type": "\"string\""
        },
        {
         "metadata": "{}",
         "name": "email",
         "type": "\"string\""
        }
       ],
       "type": "table"
      }
     },
     "output_type": "display_data"
    }
   ],
   "source": [
    "from pyspark.sql.functions import col\n",
    "\n",
    "users_df.select(col(\"name\").alias(\"Full Name\"), col(\"email\")).limit(3).display()"
   ]
  },
  {
   "cell_type": "markdown",
   "metadata": {
    "application/vnd.databricks.v1+cell": {
     "cellMetadata": {},
     "inputWidgets": {},
     "nuid": "46645449-a706-420e-8a1d-0dbf459aaec6",
     "showTitle": false,
     "title": ""
    }
   },
   "source": [
    "# Filter Operations\n",
    "\n",
    "* Filter Records matching the country 'India'\n",
    "* Fetch all names who belong to country 'India' and whose maritial_status is \"Single\""
   ]
  },
  {
   "cell_type": "code",
   "execution_count": 0,
   "metadata": {
    "application/vnd.databricks.v1+cell": {
     "cellMetadata": {
      "byteLimit": 2048000,
      "rowLimit": 10000
     },
     "inputWidgets": {},
     "nuid": "6bf84ea3-82f0-41a9-9eb9-c9e7423c0597",
     "showTitle": false,
     "title": ""
    }
   },
   "outputs": [
    {
     "output_type": "stream",
     "name": "stdout",
     "output_type": "stream",
     "text": [
      "Records beloing to India: 247\n"
     ]
    },
    {
     "output_type": "display_data",
     "data": {
      "text/html": [
       "<style scoped>\n",
       "  .table-result-container {\n",
       "    max-height: 300px;\n",
       "    overflow: auto;\n",
       "  }\n",
       "  table, th, td {\n",
       "    border: 1px solid black;\n",
       "    border-collapse: collapse;\n",
       "  }\n",
       "  th, td {\n",
       "    padding: 5px;\n",
       "  }\n",
       "  th {\n",
       "    text-align: left;\n",
       "  }\n",
       "</style><div class='table-result-container'><table class='table-result'><thead style='background-color: white'><tr><th>id</th><th>name</th><th>dob</th><th>email</th><th>gender</th><th>country</th><th>region</th><th>city</th><th>asset</th><th>marital_status</th></tr></thead><tbody><tr><td>5</td><td>Bo Underwood</td><td>2024-06-30</td><td>bounderwood@ymail.com</td><td>Male</td><td>India</td><td>Tamil Nadu</td><td>Madurai</td><td>366783</td><td>Married</td></tr><tr><td>7</td><td>Chantale Nixon</td><td>2023-09-06</td><td>chantalenixon404@ymail.com</td><td>Female</td><td>India</td><td>Andaman and Nicobar Islands</td><td>Port Blair</td><td>717994</td><td>Married</td></tr><tr><td>8</td><td>Ashton Willis</td><td>2025-02-22</td><td>ashtonwillis@gmail.com</td><td>Male</td><td>India</td><td>Dadra and Nagar Haveli</td><td>Silvassa</td><td>483841</td><td>Married</td></tr><tr><td>9</td><td>Mercedes Lawrence</td><td>2024-08-15</td><td>mercedeslawrence4115@ymail.com</td><td>Male</td><td>India</td><td>Punjab</td><td>Gujranwala</td><td>598378</td><td>Single</td></tr><tr><td>10</td><td>Norman Patton</td><td>2024-02-25</td><td>normanpatton6042@yahoomail.com</td><td>Transgender</td><td>India</td><td>Chhattisgarh</td><td>Durg</td><td>412938</td><td>Married</td></tr></tbody></table></div>"
      ]
     },
     "metadata": {
      "application/vnd.databricks.v1+output": {
       "addedWidgets": {},
       "aggData": [],
       "aggError": "",
       "aggOverflow": false,
       "aggSchema": [],
       "aggSeriesLimitReached": false,
       "aggType": "",
       "arguments": {},
       "columnCustomDisplayInfos": {},
       "data": [
        [
         5,
         "Bo Underwood",
         "2024-06-30",
         "bounderwood@ymail.com",
         "Male",
         "India",
         "Tamil Nadu",
         "Madurai",
         366783,
         "Married"
        ],
        [
         7,
         "Chantale Nixon",
         "2023-09-06",
         "chantalenixon404@ymail.com",
         "Female",
         "India",
         "Andaman and Nicobar Islands",
         "Port Blair",
         717994,
         "Married"
        ],
        [
         8,
         "Ashton Willis",
         "2025-02-22",
         "ashtonwillis@gmail.com",
         "Male",
         "India",
         "Dadra and Nagar Haveli",
         "Silvassa",
         483841,
         "Married"
        ],
        [
         9,
         "Mercedes Lawrence",
         "2024-08-15",
         "mercedeslawrence4115@ymail.com",
         "Male",
         "India",
         "Punjab",
         "Gujranwala",
         598378,
         "Single"
        ],
        [
         10,
         "Norman Patton",
         "2024-02-25",
         "normanpatton6042@yahoomail.com",
         "Transgender",
         "India",
         "Chhattisgarh",
         "Durg",
         412938,
         "Married"
        ]
       ],
       "datasetInfos": [],
       "dbfsResultPath": null,
       "isJsonSchema": true,
       "metadata": {},
       "overflow": false,
       "plotOptions": {
        "customPlotOptions": {},
        "displayType": "table",
        "pivotAggregation": null,
        "pivotColumns": null,
        "xColumns": null,
        "yColumns": null
       },
       "removedWidgets": [],
       "schema": [
        {
         "metadata": "{}",
         "name": "id",
         "type": "\"integer\""
        },
        {
         "metadata": "{}",
         "name": "name",
         "type": "\"string\""
        },
        {
         "metadata": "{\"__detected_date_formats\":\"yyyy-M-d\"}",
         "name": "dob",
         "type": "\"date\""
        },
        {
         "metadata": "{}",
         "name": "email",
         "type": "\"string\""
        },
        {
         "metadata": "{}",
         "name": "gender",
         "type": "\"string\""
        },
        {
         "metadata": "{}",
         "name": "country",
         "type": "\"string\""
        },
        {
         "metadata": "{}",
         "name": "region",
         "type": "\"string\""
        },
        {
         "metadata": "{}",
         "name": "city",
         "type": "\"string\""
        },
        {
         "metadata": "{}",
         "name": "asset",
         "type": "\"integer\""
        },
        {
         "metadata": "{}",
         "name": "marital_status",
         "type": "\"string\""
        }
       ],
       "type": "table"
      }
     },
     "output_type": "display_data"
    }
   ],
   "source": [
    "filtered_records = users_df.filter(col(\"country\") == \"India\")\n",
    "print(f\"Records beloing to India: {filtered_records.count()}\")\n",
    "filtered_records.limit(5).display()"
   ]
  },
  {
   "cell_type": "code",
   "execution_count": 0,
   "metadata": {
    "application/vnd.databricks.v1+cell": {
     "cellMetadata": {
      "byteLimit": 2048000,
      "rowLimit": 10000
     },
     "inputWidgets": {},
     "nuid": "8175979e-fb76-42e4-904f-f416cdd90613",
     "showTitle": false,
     "title": ""
    }
   },
   "outputs": [
    {
     "output_type": "stream",
     "name": "stdout",
     "output_type": "stream",
     "text": [
      "Count: 123\n"
     ]
    },
    {
     "output_type": "display_data",
     "data": {
      "text/html": [
       "<style scoped>\n",
       "  .table-result-container {\n",
       "    max-height: 300px;\n",
       "    overflow: auto;\n",
       "  }\n",
       "  table, th, td {\n",
       "    border: 1px solid black;\n",
       "    border-collapse: collapse;\n",
       "  }\n",
       "  th, td {\n",
       "    padding: 5px;\n",
       "  }\n",
       "  th {\n",
       "    text-align: left;\n",
       "  }\n",
       "</style><div class='table-result-container'><table class='table-result'><thead style='background-color: white'><tr><th>id</th><th>Full Name</th><th>marital_status</th></tr></thead><tbody><tr><td>1</td><td>Heather Gibbs</td><td>Married</td></tr><tr><td>3</td><td>Ocean Workman</td><td> Married</td></tr><tr><td>4</td><td>Xaviera Maxwell</td><td>married</td></tr><tr><td>5</td><td>Bo Underwood</td><td>Married</td></tr><tr><td>7</td><td>Chantale Nixon</td><td>Married</td></tr><tr><td>8</td><td>Ashton Willis</td><td>Married</td></tr><tr><td>10</td><td>Norman Patton</td><td>Married</td></tr><tr><td>12</td><td>Jana Barr</td><td>Married</td></tr><tr><td>17</td><td>Dominique Horton</td><td>Married</td></tr><tr><td>20</td><td>Dean Beard</td><td>Married</td></tr><tr><td>21</td><td>Doris Joyce</td><td>Married</td></tr><tr><td>25</td><td>Ray Schroeder</td><td>Married</td></tr><tr><td>30</td><td>Nathan Rosario</td><td>Married</td></tr><tr><td>32</td><td>Jonas Mcintosh</td><td>Married</td></tr><tr><td>38</td><td>Arden Goodwin</td><td>Married</td></tr></tbody></table></div>"
      ]
     },
     "metadata": {
      "application/vnd.databricks.v1+output": {
       "addedWidgets": {},
       "aggData": [],
       "aggError": "",
       "aggOverflow": false,
       "aggSchema": [],
       "aggSeriesLimitReached": false,
       "aggType": "",
       "arguments": {},
       "columnCustomDisplayInfos": {},
       "data": [
        [
         1,
         "Heather Gibbs",
         "Married"
        ],
        [
         3,
         "Ocean Workman",
         " Married"
        ],
        [
         4,
         "Xaviera Maxwell",
         "married"
        ],
        [
         5,
         "Bo Underwood",
         "Married"
        ],
        [
         7,
         "Chantale Nixon",
         "Married"
        ],
        [
         8,
         "Ashton Willis",
         "Married"
        ],
        [
         10,
         "Norman Patton",
         "Married"
        ],
        [
         12,
         "Jana Barr",
         "Married"
        ],
        [
         17,
         "Dominique Horton",
         "Married"
        ],
        [
         20,
         "Dean Beard",
         "Married"
        ],
        [
         21,
         "Doris Joyce",
         "Married"
        ],
        [
         25,
         "Ray Schroeder",
         "Married"
        ],
        [
         30,
         "Nathan Rosario",
         "Married"
        ],
        [
         32,
         "Jonas Mcintosh",
         "Married"
        ],
        [
         38,
         "Arden Goodwin",
         "Married"
        ]
       ],
       "datasetInfos": [],
       "dbfsResultPath": null,
       "isJsonSchema": true,
       "metadata": {},
       "overflow": false,
       "plotOptions": {
        "customPlotOptions": {},
        "displayType": "table",
        "pivotAggregation": null,
        "pivotColumns": null,
        "xColumns": null,
        "yColumns": null
       },
       "removedWidgets": [],
       "schema": [
        {
         "metadata": "{}",
         "name": "id",
         "type": "\"integer\""
        },
        {
         "metadata": "{}",
         "name": "Full Name",
         "type": "\"string\""
        },
        {
         "metadata": "{}",
         "name": "marital_status",
         "type": "\"string\""
        }
       ],
       "type": "table"
      }
     },
     "output_type": "display_data"
    }
   ],
   "source": [
    "# Fetch all names who belong to country 'India' and whose maritial_status is \"Single\"\n",
    "\n",
    "from pyspark.sql.functions import lower, trim\n",
    "\n",
    "df_01 = users_df.filter(trim(lower(col(\"marital_status\"))) == \"married\").select(\n",
    "    col(\"id\"), col(\"name\").alias(\"Full Name\"), col(\"marital_status\")\n",
    ")\n",
    "print(f\"Count: {df_01.count()}\")\n",
    "df_01.limit(15).display()"
   ]
  },
  {
   "cell_type": "code",
   "execution_count": 0,
   "metadata": {
    "application/vnd.databricks.v1+cell": {
     "cellMetadata": {
      "byteLimit": 2048000,
      "rowLimit": 10000
     },
     "inputWidgets": {},
     "nuid": "cf4cde10-542d-444a-8944-5afa623fd5d8",
     "showTitle": false,
     "title": ""
    }
   },
   "outputs": [
    {
     "output_type": "stream",
     "name": "stdout",
     "output_type": "stream",
     "text": [
      "Out[52]: True"
     ]
    }
   ],
   "source": [
    "dbutils.fs.rm(\"/FileStore/tables/users_001.csv\")"
   ]
  },
  {
   "cell_type": "code",
   "execution_count": 0,
   "metadata": {
    "application/vnd.databricks.v1+cell": {
     "cellMetadata": {},
     "inputWidgets": {},
     "nuid": "3457699a-f45a-4534-aaf8-42c93690c26e",
     "showTitle": false,
     "title": ""
    }
   },
   "outputs": [],
   "source": []
  }
 ],
 "metadata": {
  "application/vnd.databricks.v1+notebook": {
   "dashboards": [],
   "environmentMetadata": null,
   "language": "python",
   "notebookMetadata": {
    "pythonIndentUnit": 2
   },
   "notebookName": "02. Exploring DataFrame API",
   "widgets": {}
  }
 },
 "nbformat": 4,
 "nbformat_minor": 0
}
