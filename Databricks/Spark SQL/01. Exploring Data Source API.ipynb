{
 "cells": [
  {
   "cell_type": "markdown",
   "metadata": {
    "application/vnd.databricks.v1+cell": {
     "cellMetadata": {},
     "inputWidgets": {},
     "nuid": "5c9f74e8-93a8-40a5-815d-25f3eb27c146",
     "showTitle": false,
     "title": ""
    }
   },
   "source": [
    "\n",
    "# Introduction\n",
    "\n",
    "1. The primary interface to create Dataframe is via DataFrameReader\n",
    "\n",
    "**Create DataFrameReader**\n",
    "\n",
    "`\n",
    "dfr = spark.read\n",
    "print(type(dfr))\n",
    "`\n",
    "\n",
    "\n",
    "https://spark.apache.org/docs/2.4.0/api/python/pyspark.sql.html#pyspark.sql.SparkSession\n",
    "\n",
    "* You have several methods to create DataFrame in DataFrameReader\n",
    "(.csv, .json,   .parquet,   .orc,   .jdbc\n",
    "\n",
    "2. You have several methosd in DataFrameReader to create DataFrame \n",
    "\n",
    "https://spark.apache.org/docs/2.4.0/api/python/pyspark.sql.html#pyspark.sql.DataFrameReader\n",
    "\n"
   ]
  },
  {
   "cell_type": "markdown",
   "metadata": {
    "application/vnd.databricks.v1+cell": {
     "cellMetadata": {},
     "inputWidgets": {},
     "nuid": "34bb73cf-4d64-41e1-a700-b69e2cccae03",
     "showTitle": false,
     "title": ""
    }
   },
   "source": [
    "# Create DataFrame from Different source"
   ]
  },
  {
   "cell_type": "code",
   "execution_count": 0,
   "metadata": {
    "application/vnd.databricks.v1+cell": {
     "cellMetadata": {
      "byteLimit": 2048000,
      "rowLimit": 10000
     },
     "inputWidgets": {},
     "nuid": "ffe41db5-321a-4e91-82bb-f7599474e85c",
     "showTitle": false,
     "title": ""
    }
   },
   "outputs": [],
   "source": [
    "type(spark)"
   ]
  },
  {
   "cell_type": "code",
   "execution_count": 0,
   "metadata": {
    "application/vnd.databricks.v1+cell": {
     "cellMetadata": {
      "byteLimit": 2048000,
      "rowLimit": 10000
     },
     "inputWidgets": {},
     "nuid": "bc7763fe-df5f-4b8e-9e8e-90f61ab9630d",
     "showTitle": false,
     "title": ""
    }
   },
   "outputs": [],
   "source": [
    "dfr = spark.read\n",
    "type(dfr)"
   ]
  },
  {
   "cell_type": "markdown",
   "metadata": {
    "application/vnd.databricks.v1+cell": {
     "cellMetadata": {},
     "inputWidgets": {},
     "nuid": "614d6117-5df3-47aa-b20c-59df49cb2c77",
     "showTitle": false,
     "title": ""
    }
   },
   "source": [
    "## 01. Create DF from CSV"
   ]
  },
  {
   "cell_type": "code",
   "execution_count": 0,
   "metadata": {
    "application/vnd.databricks.v1+cell": {
     "cellMetadata": {
      "byteLimit": 2048000,
      "rowLimit": 10000
     },
     "inputWidgets": {},
     "nuid": "997d5cf2-72a4-4295-9975-de44b6a7dae4",
     "showTitle": false,
     "title": ""
    }
   },
   "outputs": [],
   "source": [
    "employee_df = spark.read.csv(\"/FileStore/tables/employee.csv\")\n",
    "print(type(employee_df))"
   ]
  },
  {
   "cell_type": "markdown",
   "metadata": {
    "application/vnd.databricks.v1+cell": {
     "cellMetadata": {},
     "inputWidgets": {},
     "nuid": "fe2ece8a-22d1-4237-a094-953f45b15f2d",
     "showTitle": false,
     "title": ""
    }
   },
   "source": [
    "## 02. Create DF from JSON"
   ]
  },
  {
   "cell_type": "code",
   "execution_count": 0,
   "metadata": {
    "application/vnd.databricks.v1+cell": {
     "cellMetadata": {
      "byteLimit": 2048000,
      "rowLimit": 10000
     },
     "inputWidgets": {},
     "nuid": "e0810069-f1f6-4c8f-9350-e0b46bf90e2c",
     "showTitle": false,
     "title": ""
    }
   },
   "outputs": [],
   "source": [
    "employee_df = spark.read.json(\"/FileStore/tables/users_01.json\")\n",
    "print(type(employee_df))"
   ]
  },
  {
   "cell_type": "markdown",
   "metadata": {
    "application/vnd.databricks.v1+cell": {
     "cellMetadata": {},
     "inputWidgets": {},
     "nuid": "4d07c20c-9057-4c35-ab0d-d8acc2aa8320",
     "showTitle": false,
     "title": ""
    }
   },
   "source": [
    "## 03. Create DF from Database"
   ]
  },
  {
   "cell_type": "code",
   "execution_count": 0,
   "metadata": {
    "application/vnd.databricks.v1+cell": {
     "cellMetadata": {},
     "inputWidgets": {},
     "nuid": "d39b1ffc-4f3f-4c33-9525-1c09368f0dbd",
     "showTitle": false,
     "title": ""
    }
   },
   "outputs": [],
   "source": [
    "spark.read.jdbc"
   ]
  },
  {
   "cell_type": "markdown",
   "metadata": {
    "application/vnd.databricks.v1+cell": {
     "cellMetadata": {},
     "inputWidgets": {},
     "nuid": "04d94728-1bf6-41b9-aa5b-78aead6f1579",
     "showTitle": false,
     "title": ""
    }
   },
   "source": [
    "# Exploring DataFrameReader\n",
    "\n",
    "\n",
    "**Reference**\n",
    "\n",
    "* https://spark.apache.org/docs/2.4.0/api/python/pyspark.sql.html#pyspark.sql.DataFrameReader"
   ]
  },
  {
   "cell_type": "markdown",
   "metadata": {
    "application/vnd.databricks.v1+cell": {
     "cellMetadata": {},
     "inputWidgets": {},
     "nuid": "705c025e-ed50-46cb-9b64-2513a8930dcd",
     "showTitle": false,
     "title": ""
    }
   },
   "source": [
    "## Common options for  .csv\n",
    "\n",
    "* header :\n",
    "* inferSchema :\n",
    "* sep :\n",
    "* schema :\n",
    "* quote :"
   ]
  },
  {
   "cell_type": "code",
   "execution_count": 0,
   "metadata": {
    "application/vnd.databricks.v1+cell": {
     "cellMetadata": {
      "byteLimit": 2048000,
      "rowLimit": 10000
     },
     "inputWidgets": {},
     "nuid": "c3e1bdb2-d097-4090-9f2a-30b985a4512f",
     "showTitle": false,
     "title": ""
    }
   },
   "outputs": [
    {
     "output_type": "stream",
     "name": "stdout",
     "output_type": "stream",
     "text": [
      "+------+------------+-------+-------+----------+-----------+---------+----------+--------------------+--------------------------+\n|col_id|col_name    |col_exp|col_gen|col_dob   |col_company|col_desig|col_doj   |col_skills          |col_actual_expected_salary|\n+------+------------+-------+-------+----------+-----------+---------+----------+--------------------+--------------------------+\n|101   |Agastya     |1      |M      |1987-01-22|Infosys    |Developer|2015-01-21|Hadoop,PySpark,Kafka|1050000,1100000           |\n|102   |Acyuta      |2      |F      |1987-03-29|TCS        |Team Lead|2016-01-21|C,C++,Java          |1050000,1100000           |\n|103   |Anuvrata    |1      |M      |1987-01-22|Infosys    |Developer|2017-01-21|Java,Python,Hadoop  |1050000,1100000           |\n|null  |Bhavika     |6      |F      |1987-01-22|Cisco      |Team Lead|2015-01-21|Hadoop,PySpark,Kafka|null                      |\n|105   |Chitragandha|null   |M      |1987-01-22|CTS        |Developer|null      |C,C++,Java          |1050000,1100000           |\n+------+------------+-------+-------+----------+-----------+---------+----------+--------------------+--------------------------+\nonly showing top 5 rows\n\n"
     ]
    }
   ],
   "source": [
    "employee_df = spark.read.csv(\n",
    "    path=\"/FileStore/tables/employee.csv\", sep=\"|\", header=True, quote=\"'\",inferSchema=True\n",
    ")\n",
    "employee_df.show(n=5, truncate=False)"
   ]
  },
  {
   "cell_type": "code",
   "execution_count": 0,
   "metadata": {
    "application/vnd.databricks.v1+cell": {
     "cellMetadata": {
      "byteLimit": 2048000,
      "rowLimit": 10000
     },
     "inputWidgets": {},
     "nuid": "ea677263-7b8e-4e81-9421-9e8d8b289b57",
     "showTitle": false,
     "title": ""
    }
   },
   "outputs": [
    {
     "output_type": "stream",
     "name": "stdout",
     "output_type": "stream",
     "text": [
      "root\n |-- col_id: integer (nullable = true)\n |-- col_name: string (nullable = true)\n |-- col_exp: integer (nullable = true)\n |-- col_gen: string (nullable = true)\n |-- col_dob: date (nullable = true)\n |-- col_company: string (nullable = true)\n |-- col_desig: string (nullable = true)\n |-- col_doj: date (nullable = true)\n |-- col_skills: string (nullable = true)\n |-- col_actual_expected_salary: string (nullable = true)\n\n"
     ]
    }
   ],
   "source": [
    "employee_df.printSchema()"
   ]
  },
  {
   "cell_type": "code",
   "execution_count": 0,
   "metadata": {
    "application/vnd.databricks.v1+cell": {
     "cellMetadata": {
      "byteLimit": 2048000,
      "rowLimit": 10000
     },
     "inputWidgets": {},
     "nuid": "ee5d6b65-0064-4321-96c1-af776bb8538f",
     "showTitle": false,
     "title": ""
    }
   },
   "outputs": [],
   "source": []
  },
  {
   "cell_type": "code",
   "execution_count": 0,
   "metadata": {
    "application/vnd.databricks.v1+cell": {
     "cellMetadata": {
      "byteLimit": 2048000,
      "rowLimit": 10000
     },
     "inputWidgets": {},
     "nuid": "08fb923c-f915-4e11-ad4e-a08c5b7bb13c",
     "showTitle": false,
     "title": ""
    }
   },
   "outputs": [],
   "source": [
    "users_df = spark.read.csv(\n",
    "    path=\"/FileStore/tables/users_001.csv\", header=True, quote=\"'\",inferSchema=True\n",
    ")\n",
    "users_df.show(n=5, truncate=False)"
   ]
  },
  {
   "cell_type": "markdown",
   "metadata": {
    "application/vnd.databricks.v1+cell": {
     "cellMetadata": {},
     "inputWidgets": {},
     "nuid": "370bba39-292e-4424-a4e3-66adc624335a",
     "showTitle": false,
     "title": ""
    }
   },
   "source": [
    "## Attaching Custom Schema"
   ]
  },
  {
   "cell_type": "code",
   "execution_count": 0,
   "metadata": {
    "application/vnd.databricks.v1+cell": {
     "cellMetadata": {
      "byteLimit": 2048000,
      "rowLimit": 10000
     },
     "inputWidgets": {},
     "nuid": "6f72a2bb-3a04-4db5-9ae0-23ca84412dc3",
     "showTitle": false,
     "title": ""
    }
   },
   "outputs": [],
   "source": [
    "from pyspark.sql.types import *\n",
    "\n",
    "USER_SCHEMA = StructType([\n",
    "  StructField(\"id\", IntegerType()),\n",
    "  StructField(\"full_name\", StringType()),\n",
    "  StructField(\"email\", StringType()),\n",
    "  StructField(\"gender\", StringType()),\n",
    "  StructField(\"country\", StringType()),\n",
    "  StructField(\"state\", StringType()),\n",
    "  StructField(\"city\", StringType()),\n",
    "  StructField(\"asset\", IntegerType()),\n",
    "  StructField(\"marital_status\", StringType())\n",
    "])\n",
    "\n",
    "users_df = spark.read.csv(\n",
    "    path=\"/FileStore/tables/users_001.csv\", \n",
    "    header=True, \n",
    "    quote=\"'\",\n",
    "    schema=USER_SCHEMA\n",
    ")\n"
   ]
  },
  {
   "cell_type": "code",
   "execution_count": 0,
   "metadata": {
    "application/vnd.databricks.v1+cell": {
     "cellMetadata": {
      "byteLimit": 2048000,
      "rowLimit": 10000
     },
     "inputWidgets": {},
     "nuid": "dd0139a8-8d8a-4fb0-8381-15ec25ebde29",
     "showTitle": false,
     "title": ""
    }
   },
   "outputs": [],
   "source": [
    "users_df.printSchema()"
   ]
  },
  {
   "cell_type": "code",
   "execution_count": 0,
   "metadata": {
    "application/vnd.databricks.v1+cell": {
     "cellMetadata": {
      "byteLimit": 2048000,
      "rowLimit": 10000
     },
     "inputWidgets": {},
     "nuid": "d6a8cf8f-7b83-43ad-a7a6-e6396d943b97",
     "showTitle": false,
     "title": ""
    }
   },
   "outputs": [],
   "source": [
    "users_df = spark.read.csv(\n",
    "    path=\"/FileStore/tables/users_001.csv\", header=True, quote=\"'\",inferSchema=True\n",
    ")\n"
   ]
  },
  {
   "cell_type": "code",
   "execution_count": 0,
   "metadata": {
    "application/vnd.databricks.v1+cell": {
     "cellMetadata": {
      "byteLimit": 2048000,
      "rowLimit": 10000
     },
     "inputWidgets": {},
     "nuid": "5bc0cb43-12a0-4061-9b6e-4d62665d58c3",
     "showTitle": false,
     "title": ""
    }
   },
   "outputs": [],
   "source": [
    "from pyspark.sql.types import *\n",
    "\n",
    "USER_SCHEMA = StructType([\n",
    "  StructField(\"id\", IntegerType()),\n",
    "  StructField(\"full_name\", StringType()),\n",
    "  StructField(\"email\", StringType()),\n",
    "  StructField(\"gender\", StringType()),\n",
    "  StructField(\"country\", StringType()),\n",
    "  StructField(\"state\", StringType()),\n",
    "  StructField(\"city\", StringType()),\n",
    "  StructField(\"asset\", IntegerType()),\n",
    "  StructField(\"marital_status\", StringType())\n",
    "])\n",
    "\n",
    "users_df = spark.read.csv(\n",
    "    path=\"/FileStore/tables/users_001.csv\", \n",
    "    header=True, \n",
    "    quote=\"'\",\n",
    "    schema=USER_SCHEMA\n",
    ")\n"
   ]
  },
  {
   "cell_type": "markdown",
   "metadata": {
    "application/vnd.databricks.v1+cell": {
     "cellMetadata": {},
     "inputWidgets": {},
     "nuid": "5e7f5913-a8f2-485f-b9f2-525c9f52a8ef",
     "showTitle": false,
     "title": ""
    }
   },
   "source": [
    "## Handling Corrupt Records\n",
    "\n",
    "There are 3 modes\n",
    "\n",
    "1. PERMISSIVE\n",
    "2. DROPMALFORMED\n",
    "3. FAILFASE"
   ]
  },
  {
   "cell_type": "markdown",
   "metadata": {
    "application/vnd.databricks.v1+cell": {
     "cellMetadata": {},
     "inputWidgets": {},
     "nuid": "3710d901-b0fa-4685-9a6c-85bac90e1c73",
     "showTitle": false,
     "title": ""
    }
   },
   "source": [
    "### PERMISSIVE"
   ]
  },
  {
   "cell_type": "code",
   "execution_count": 0,
   "metadata": {
    "application/vnd.databricks.v1+cell": {
     "cellMetadata": {
      "byteLimit": 2048000,
      "rowLimit": 10000
     },
     "inputWidgets": {},
     "nuid": "1a411550-aac9-4314-b68f-4ba77e6b3c6e",
     "showTitle": false,
     "title": ""
    }
   },
   "outputs": [],
   "source": [
    "access_logs_df = spark.read.option(\"mode\",\"PERMISSIVE\").json(path=\"/FileStore/tables/access_logs.json\")\n",
    "access_logs_df.show()"
   ]
  },
  {
   "cell_type": "code",
   "execution_count": 0,
   "metadata": {
    "application/vnd.databricks.v1+cell": {
     "cellMetadata": {
      "byteLimit": 2048000,
      "rowLimit": 10000
     },
     "inputWidgets": {},
     "nuid": "d3634eca-f491-4ed2-868f-7a4fc51c9dda",
     "showTitle": false,
     "title": ""
    }
   },
   "outputs": [],
   "source": [
    "access_logs_df = (\n",
    "    spark.read.option(\"mode\", \"PERMISSIVE\")\n",
    "    .option(\"columnNameOfCorruptRecord\", \"rejected_records\")\n",
    "    .json(path=\"/FileStore/tables/access_logs.json\")\n",
    ")\n",
    "access_logs_df.show()\n",
    "\n"
   ]
  },
  {
   "cell_type": "markdown",
   "metadata": {
    "application/vnd.databricks.v1+cell": {
     "cellMetadata": {},
     "inputWidgets": {},
     "nuid": "76d621d7-866a-4f21-a8f1-d0070010569c",
     "showTitle": false,
     "title": ""
    }
   },
   "source": [
    "### DROPMALFORMED"
   ]
  },
  {
   "cell_type": "code",
   "execution_count": 0,
   "metadata": {
    "application/vnd.databricks.v1+cell": {
     "cellMetadata": {
      "byteLimit": 2048000,
      "rowLimit": 10000
     },
     "inputWidgets": {},
     "nuid": "350dc9f1-f67f-4274-ad84-4ebef401444f",
     "showTitle": false,
     "title": ""
    }
   },
   "outputs": [],
   "source": [
    "access_logs_df = spark.read.option(\"mode\",\"DROPMALFORMED\").json(path=\"/FileStore/tables/access_logs.json\")\n",
    "access_logs_df.show()"
   ]
  },
  {
   "cell_type": "markdown",
   "metadata": {
    "application/vnd.databricks.v1+cell": {
     "cellMetadata": {
      "byteLimit": 2048000,
      "rowLimit": 10000
     },
     "inputWidgets": {},
     "nuid": "927fcaa2-d722-4cf2-9bad-9029b700cb96",
     "showTitle": false,
     "title": ""
    }
   },
   "source": [
    "### FAILFAST"
   ]
  },
  {
   "cell_type": "code",
   "execution_count": 0,
   "metadata": {
    "application/vnd.databricks.v1+cell": {
     "cellMetadata": {
      "byteLimit": 2048000,
      "rowLimit": 10000
     },
     "inputWidgets": {},
     "nuid": "461805e8-55c5-4acc-812d-4ca5f0dfd223",
     "showTitle": false,
     "title": ""
    }
   },
   "outputs": [],
   "source": [
    "access_logs_df = spark.read.option(\"mode\",\"FAILFAST\").json(path=\"/FileStore/tables/access_logs.json\")\n",
    "access_logs_df.show()"
   ]
  },
  {
   "cell_type": "markdown",
   "metadata": {
    "application/vnd.databricks.v1+cell": {
     "cellMetadata": {},
     "inputWidgets": {},
     "nuid": "1b3e96a0-be9b-4e11-9f27-ee650e7927d1",
     "showTitle": false,
     "title": ""
    }
   },
   "source": [
    "# Exploring DataFrameWriter\n",
    "\n",
    "**Referenec**\n",
    "\n",
    "https://spark.apache.org/docs/2.4.0/api/python/pyspark.sql.html#pyspark.sql.SparkSession"
   ]
  },
  {
   "cell_type": "markdown",
   "metadata": {
    "application/vnd.databricks.v1+cell": {
     "cellMetadata": {},
     "inputWidgets": {},
     "nuid": "a4ffb9a5-9f45-46fa-9ef1-769365d485ae",
     "showTitle": false,
     "title": ""
    }
   },
   "source": [
    "## Write as parquet"
   ]
  },
  {
   "cell_type": "code",
   "execution_count": 0,
   "metadata": {
    "application/vnd.databricks.v1+cell": {
     "cellMetadata": {
      "byteLimit": 2048000,
      "rowLimit": 10000
     },
     "inputWidgets": {},
     "nuid": "4943002b-1154-4eba-9c8a-8d7426a73cdb",
     "showTitle": false,
     "title": ""
    }
   },
   "outputs": [],
   "source": [
    "v.printSchema()"
   ]
  },
  {
   "cell_type": "code",
   "execution_count": 0,
   "metadata": {
    "application/vnd.databricks.v1+cell": {
     "cellMetadata": {
      "byteLimit": 2048000,
      "rowLimit": 10000
     },
     "inputWidgets": {},
     "nuid": "e7408253-c565-4690-a252-88577e1a30e7",
     "showTitle": false,
     "title": ""
    }
   },
   "outputs": [],
   "source": [
    "users_df.select(\"full_name\").write.format(\"csv\").option(\"header\", \"true\").save(\n",
    "    \"/FileStore/tables/output_01\"\n",
    ")"
   ]
  },
  {
   "cell_type": "code",
   "execution_count": 0,
   "metadata": {
    "application/vnd.databricks.v1+cell": {
     "cellMetadata": {
      "byteLimit": 2048000,
      "rowLimit": 10000
     },
     "inputWidgets": {},
     "nuid": "6eeb2fda-8172-40f4-b959-877029c949a3",
     "showTitle": false,
     "title": ""
    }
   },
   "outputs": [],
   "source": [
    "spark.read.csv(path=\"/FileStore/tables/output_01\", header=True).show(n=5)"
   ]
  },
  {
   "cell_type": "code",
   "execution_count": 0,
   "metadata": {
    "application/vnd.databricks.v1+cell": {
     "cellMetadata": {
      "byteLimit": 2048000,
      "rowLimit": 10000
     },
     "inputWidgets": {},
     "nuid": "518e2152-23e3-4cfd-941c-3235f8218e35",
     "showTitle": false,
     "title": ""
    }
   },
   "outputs": [],
   "source": [
    "dbutils.fs.ls(\"/FileStore/tables/output_parquet_02\")"
   ]
  },
  {
   "cell_type": "code",
   "execution_count": 0,
   "metadata": {
    "application/vnd.databricks.v1+cell": {
     "cellMetadata": {
      "byteLimit": 2048000,
      "rowLimit": 10000
     },
     "inputWidgets": {},
     "nuid": "b53a225a-4f4e-426b-a11f-d801d625535c",
     "showTitle": false,
     "title": ""
    }
   },
   "outputs": [],
   "source": [
    "users_df.select(\"full_name\").write.option(\"mode\",\"overwrite\").option(\"header\", \"true\").parquet(\n",
    "    \"/FileStore/tables/output_parquet_02\"\n",
    ")"
   ]
  },
  {
   "cell_type": "code",
   "execution_count": 0,
   "metadata": {
    "application/vnd.databricks.v1+cell": {
     "cellMetadata": {
      "byteLimit": 2048000,
      "rowLimit": 10000
     },
     "inputWidgets": {},
     "nuid": "1d006d09-d2bc-430f-80cc-5a2b2eaa28b1",
     "showTitle": false,
     "title": ""
    }
   },
   "outputs": [],
   "source": [
    "spark.read.format(\"delta\").load(\"/FileStore/tables/output_parquet_02\").show(n=5)\n"
   ]
  },
  {
   "cell_type": "markdown",
   "metadata": {
    "application/vnd.databricks.v1+cell": {
     "cellMetadata": {},
     "inputWidgets": {},
     "nuid": "ead86fc8-e389-4a2d-9083-de22cd0e9772",
     "showTitle": false,
     "title": ""
    }
   },
   "source": [
    "## Write as JSON"
   ]
  },
  {
   "cell_type": "code",
   "execution_count": 0,
   "metadata": {
    "application/vnd.databricks.v1+cell": {
     "cellMetadata": {
      "byteLimit": 2048000,
      "rowLimit": 10000
     },
     "inputWidgets": {},
     "nuid": "f99e110f-537c-4b4c-9d69-72cfea3ebe7b",
     "showTitle": false,
     "title": ""
    }
   },
   "outputs": [],
   "source": [
    "users_df.select(\"full_name\").write.json(\n",
    "    \"/FileStore/tables/output_json\"\n",
    ")\n",
    "spark.read.json(\"/FileStore/tables/output_json\").show()"
   ]
  },
  {
   "cell_type": "code",
   "execution_count": 0,
   "metadata": {
    "application/vnd.databricks.v1+cell": {
     "cellMetadata": {
      "byteLimit": 2048000,
      "rowLimit": 10000
     },
     "inputWidgets": {},
     "nuid": "e9a9e472-cf1d-47fb-aa2b-d730ad76abd6",
     "showTitle": false,
     "title": ""
    }
   },
   "outputs": [],
   "source": [
    "spark.read.text(\"/FileStore/tables/output_json\").show(truncate=False)"
   ]
  },
  {
   "cell_type": "markdown",
   "metadata": {
    "application/vnd.databricks.v1+cell": {
     "cellMetadata": {},
     "inputWidgets": {},
     "nuid": "14a02877-0458-47ec-aa90-992e76e53e6c",
     "showTitle": false,
     "title": ""
    }
   },
   "source": [
    "## Output Modes\n",
    "\n",
    "There are three output modes\n",
    "\n",
    "1. overwrite\n",
    "2. append"
   ]
  },
  {
   "cell_type": "markdown",
   "metadata": {
    "application/vnd.databricks.v1+cell": {
     "cellMetadata": {},
     "inputWidgets": {},
     "nuid": "b79b19f0-c22d-4ba3-8bff-597b8a805448",
     "showTitle": false,
     "title": ""
    }
   },
   "source": [
    "### Overwrite"
   ]
  },
  {
   "cell_type": "code",
   "execution_count": 0,
   "metadata": {
    "application/vnd.databricks.v1+cell": {
     "cellMetadata": {},
     "inputWidgets": {},
     "nuid": "38202981-22f7-4e13-b876-fbc9b38b4386",
     "showTitle": false,
     "title": ""
    }
   },
   "outputs": [],
   "source": []
  },
  {
   "cell_type": "markdown",
   "metadata": {
    "application/vnd.databricks.v1+cell": {
     "cellMetadata": {},
     "inputWidgets": {},
     "nuid": "cb92776f-aa52-4b18-b2dc-82656fd3f3e1",
     "showTitle": false,
     "title": ""
    }
   },
   "source": [
    "### Append"
   ]
  },
  {
   "cell_type": "code",
   "execution_count": 0,
   "metadata": {
    "application/vnd.databricks.v1+cell": {
     "cellMetadata": {},
     "inputWidgets": {},
     "nuid": "7fb35ce8-747b-4fdc-9437-9194c17cbd1b",
     "showTitle": false,
     "title": ""
    }
   },
   "outputs": [],
   "source": []
  }
 ],
 "metadata": {
  "application/vnd.databricks.v1+notebook": {
   "dashboards": [],
   "environmentMetadata": null,
   "language": "python",
   "notebookMetadata": {
    "pythonIndentUnit": 2
   },
   "notebookName": "01. Exploring Data Source API",
   "widgets": {}
  }
 },
 "nbformat": 4,
 "nbformat_minor": 0
}
